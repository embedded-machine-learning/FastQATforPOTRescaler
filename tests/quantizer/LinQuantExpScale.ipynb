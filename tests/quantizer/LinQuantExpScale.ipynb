{
 "cells": [
  {
   "cell_type": "code",
   "execution_count": 1,
   "metadata": {},
   "outputs": [
    {
     "name": "stdout",
     "output_type": "stream",
     "text": [
      "Current working directory: /home/dschnoell/sources/sim2\n"
     ]
    }
   ],
   "source": [
    "if not('init' in globals()):\n",
    "    import os\n",
    "    os.chdir('../..')\n",
    "\n",
    "    print(\"Current working directory: {0}\".format(os.getcwd()))\n",
    "\n",
    "    import torch \n",
    "    import torch.nn as nn\n",
    "\n",
    "    from tests.utils import *\n",
    "\n",
    "    import model.quantizer\n",
    "\n",
    "    init = 0\n"
   ]
  },
  {
   "cell_type": "code",
   "execution_count": 2,
   "metadata": {},
   "outputs": [],
   "source": [
    "dev = \"cpu\"\n",
    "a = torch.randn(10,5,30,30).to(dev)\n",
    "a = a.clamp(-0.5,0.5)\n",
    "\n",
    "\n",
    "a2 = a.detach().clone()\n",
    "ao = a.detach().clone()\n",
    "exp = -8*torch.ones((1,5,1,1)).to(dev)\n",
    "a2 = (a2/(2**(exp))).type(torch.int64)\n"
   ]
  },
  {
   "cell_type": "code",
   "execution_count": 3,
   "metadata": {},
   "outputs": [],
   "source": [
    "quant = model.quantizer.LinQuantExpScale(8,(-1,),1,rounding_mode=\"floor\")"
   ]
  },
  {
   "cell_type": "code",
   "execution_count": 4,
   "metadata": {},
   "outputs": [
    {
     "name": "stdout",
     "output_type": "stream",
     "text": [
      "a diff: 0.003921344876289368, mean: 0.001966393319889903\n",
      "tensor([0.0039])\n",
      "out diff: 0.0, mean: 0.0\n",
      "a diff: 0.0, mean: 0.0\n",
      "out diff: 0.9999427795410156, mean: 0.501430332660675\n",
      "tensor(-128, dtype=torch.int32) tensor(127, dtype=torch.int32)\n"
     ]
    }
   ],
   "source": [
    "a = ao.clone()\n",
    "quant.train()\n",
    "out = quant(a)\n",
    "pr(\"a\",a,ao)\n",
    "print(quant.delta_out.view(-1))\n",
    "pr(\"out\", a,out)\n",
    "# print(a)\n",
    "\n",
    "quant.eval()\n",
    "a = ao.clone()\n",
    "out = quant(a)\n",
    "pr(\"a\",a,ao)\n",
    "pr(\"out\", a.div(quant.delta_out),out)\n",
    "print(out.min(),out.max())\n",
    "\n",
    "\n",
    "\n",
    "b = torch.randn(1)\n",
    "bo = b.clone().detach()\n",
    "quant.train()\n",
    "out2 = quant(b)"
   ]
  }
 ],
 "metadata": {
  "kernelspec": {
   "display_name": "Python 3.10.4 ('env': venv)",
   "language": "python",
   "name": "python3"
  },
  "language_info": {
   "codemirror_mode": {
    "name": "ipython",
    "version": 3
   },
   "file_extension": ".py",
   "mimetype": "text/x-python",
   "name": "python",
   "nbconvert_exporter": "python",
   "pygments_lexer": "ipython3",
   "version": "3.10.4"
  },
  "orig_nbformat": 4,
  "vscode": {
   "interpreter": {
    "hash": "955578640e724fe920f15040bbcdce362a752e3d5f5637717e32392deb41b389"
   }
  }
 },
 "nbformat": 4,
 "nbformat_minor": 2
}
