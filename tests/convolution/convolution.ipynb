{
 "cells": [
  {
   "cell_type": "code",
   "execution_count": 1,
   "metadata": {},
   "outputs": [
    {
     "name": "stdout",
     "output_type": "stream",
     "text": [
      "Current working directory: /home/dschnoell/sources/yolov3/EfficientConvBNQuantization\n"
     ]
    }
   ],
   "source": [
    "if not('init' in globals()):\n",
    "    import os\n",
    "    os.chdir('../..')\n",
    "\n",
    "    print(\"Current working directory: {0}\".format(os.getcwd()))\n",
    "\n",
    "    import torch \n",
    "    import torch.nn as nn\n",
    "\n",
    "    from tests.utils import *\n",
    "\n",
    "    import model.convolution\n",
    "    import model.Quantizer\n",
    "    import model.Conversion\n",
    "\n",
    "    init = 0\n"
   ]
  },
  {
   "cell_type": "code",
   "execution_count": 2,
   "metadata": {},
   "outputs": [],
   "source": [
    "dev = \"cpu\"\n",
    "a = torch.randn(10,5,30,30).to(dev)\n",
    "a = a.clamp(-0.5,0.5)"
   ]
  },
  {
   "cell_type": "code",
   "execution_count": 3,
   "metadata": {},
   "outputs": [],
   "source": [
    "a2 = a.detach().clone()\n",
    "ao = a.detach().clone()\n",
    "exp = -8*torch.ones((1,5,1,1)).to(dev)\n",
    "a2 = (a2/(2**(exp))).type(torch.int64)\n",
    "# print(a2)\n",
    "\n",
    "\n",
    "fun = lambda a:torch.ones_like(a)\n",
    "fun = None"
   ]
  },
  {
   "cell_type": "code",
   "execution_count": 4,
   "metadata": {},
   "outputs": [],
   "source": [
    "bias = True\n",
    "\n",
    "Conv = nn.Conv2d(5,5,3,1,padding=1,bias=bias).to(dev)\n",
    "Convq = model.convolution.Conv2d(5,5,3,1,padding=1,bias=bias,weight_quant_bits=8,weight_quant_channel_wise=True,out_quant_args=[8,(-1,)]).to(dev)\n",
    "\n",
    "inquant = model.Conversion.Start().to(dev)\n",
    "outquant = model.Conversion.Stop().to(dev)\n",
    "\n",
    "Convq.weight.data = Conv.weight.detach().clone() \n",
    "if bias:\n",
    "    Convq.bias.data = Conv.bias.detach().clone() "
   ]
  },
  {
   "cell_type": "code",
   "execution_count": 5,
   "metadata": {},
   "outputs": [
    {
     "name": "stdout",
     "output_type": "stream",
     "text": [
      "quant bias diff: 7.486902177333832e-06, mean: 5.252659320831299e-06\n",
      "quant bias check diff: 0.0, mean: 0.0\n",
      "quant weights diff: 0.0017336388118565083, mean: 0.0006302772089838982\n",
      "quant weights check diff: 0.0, mean: 0.0\n"
     ]
    }
   ],
   "source": [
    "a = ao.clone()\n",
    "Convq.train()\n",
    "outquant.train()\n",
    "inquant.train()\n",
    "\n",
    "\n",
    "a = inquant(ao.clone())\n",
    "out2 = Convq(a,fun)\n",
    "\n",
    "if bias:\n",
    "    pr(\"quant bias\", Conv.bias, Convq.debug_bias)\n",
    "    pr(\"quant bias check\", Conv.bias, Convq.bias)\n",
    "\n",
    "\n",
    "pr(\"quant weights\", Conv.weight, Convq.debug_weight)\n",
    "pr(\"quant weights check\", Conv.weight, Convq.weight)"
   ]
  },
  {
   "cell_type": "code",
   "execution_count": 6,
   "metadata": {},
   "outputs": [
    {
     "name": "stdout",
     "output_type": "stream",
     "text": [
      "a start: diff: 0.0, mean: 0.0\n",
      "a diff: 0.0, mean: 0.0\n",
      "out diff: 0.02267986536026001, mean: 0.00795560609549284\n",
      "weights diff: 0.0, mean: 0.0\n",
      "quant weights diff: 0.0017260080203413963, mean: 0.000620129460003227\n",
      "quant bias diff: 5.9586018323898315e-06, mean: 2.8291717626416357e-06\n",
      "out quant tensor([0.0157])\n",
      "reduce autorun by 1: 1 min/max tensor([-0.5000]) / tensor([0.5000])\n",
      "out diff: 0.02267986536026001, mean: 0.00795342493802309\n",
      "out bits diff: 1.4458427429199219, mean: 0.5070308446884155\n",
      "eval cmp diff: 1.0, mean: 0.00015555555000901222\n",
      "weight quant diff: 3.814697265625e-06, mean: 4.3869019350495364e-07\n",
      "tensor([0.0157])\n",
      "tensor([0.5983, 0.5710, 0.5794, 0.5730, 0.6007])\n",
      "tensor([-0.7411, -0.8084, -0.7875, -0.8033, -0.7354])\n",
      "tensor([-11., -11., -11., -11., -11.])\n",
      "tensor([-11., -11., -11., -11., -11.])\n",
      "tensor([-2345.,  5626.,  1995.,  1326., 18280.])\n",
      "tensor([-0.0180,  0.0431,  0.0153,  0.0102,  0.1400], grad_fn=<ViewBackward0>)\n"
     ]
    }
   ],
   "source": [
    "a = ao.clone()\n",
    "Convq.train()\n",
    "outquant.train()\n",
    "inquant.train()\n",
    "\n",
    "\n",
    "\n",
    "\n",
    "\n",
    "a = inquant(ao.clone())\n",
    "pr(\"a start:\",a,inquant(ao.clone()))\n",
    "# ao = a.clone()\n",
    "out1 = Conv(ao.clone())\n",
    "# out1 = outquant(out1)\n",
    "out2 = Convq(a,fun)\n",
    "pr(\"a\",a,inquant(ao.clone()))\n",
    "pr(\"out\", out1,out2.get()[0])\n",
    "pr(\"weights\", Convq.weight,Conv.weight )\n",
    "pr(\"quant weights\", Conv.weight, Convq.debug_weight)\n",
    "if bias:\n",
    "    pr(\"quant bias\", Conv.bias, Convq.debug_bias)\n",
    "\n",
    "Conv.weight.data = Convq.debug_weight.clone()\n",
    "if bias:\n",
    "    Conv.bias.data = Convq.debug_bias.clone()\n",
    "\n",
    "# print(\"outquant.delta_out\",outquant.delta_out.view(-1))\n",
    "print(\"out quant\",out2.get()[1].exp2().view(-1))\n",
    "# pr(\"out quant delta\",outquant.delta_out.view(-1),out2.get()[1].exp2().view(-1))\n",
    "\n",
    "\n",
    "out2_weight = Convq.debug_weight.clone()\n",
    "out2_weight_fact = Convq.debug_fact.clone()\n",
    "out2_weight_delta = Convq.weight_quant.delta_out.clone()\n",
    "# out2_bias = Convq.bias.clone()\n",
    "\n",
    "\n",
    "\n",
    "Convq.eval()\n",
    "outquant.eval()\n",
    "inquant.eval()\n",
    "b = inquant(ao.clone())\n",
    "# b = a\n",
    "out3 = Convq(b,fun)\n",
    "out3v = (out3.get()[0].type(torch.float))*(out3.get()[1].exp2())\n",
    "# print(out3[0])\n",
    "pr(\"out\", out1,out3v)\n",
    "pr(\"out bits\", (out1/(2**out3.get()[1])),out3.get()[0])\n",
    "pr(\"eval cmp\", (out2.get()[0]/(2**out3.get()[1])),out3.get()[0])\n",
    "pr(\"weight quant\",out2_weight.div(out2_weight_delta)*out2_weight_fact,Convq.debug_weight)\n",
    "\n",
    "\n",
    "Convq.train();\n",
    "print(Convq.out_quant.delta_out.view(-1))\n",
    "print(Convq.debug_fact.view(-1))\n",
    "print(Convq.debug_fact.log2().view(-1))\n",
    "print(Convq.n.view(-1))\n",
    "print(Convq.debug_n.view(-1))\n",
    "if bias:\n",
    "    print(Convq.t.view(-1))\n",
    "    print(Convq.bias.view(-1))\n"
   ]
  },
  {
   "cell_type": "code",
   "execution_count": null,
   "metadata": {},
   "outputs": [],
   "source": []
  }
 ],
 "metadata": {
  "kernelspec": {
   "display_name": "Python 3.10.7 ('env': venv)",
   "language": "python",
   "name": "python3"
  },
  "language_info": {
   "codemirror_mode": {
    "name": "ipython",
    "version": 3
   },
   "file_extension": ".py",
   "mimetype": "text/x-python",
   "name": "python",
   "nbconvert_exporter": "python",
   "pygments_lexer": "ipython3",
   "version": "3.10.7"
  },
  "orig_nbformat": 4,
  "vscode": {
   "interpreter": {
    "hash": "1f71b9ae470a0755c76404f905881986dd47f4af9ebd8c40f30a0ca3b92cd56e"
   }
  }
 },
 "nbformat": 4,
 "nbformat_minor": 2
}
