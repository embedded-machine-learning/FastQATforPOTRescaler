{
 "cells": [
  {
   "cell_type": "code",
   "execution_count": 1,
   "metadata": {},
   "outputs": [
    {
     "name": "stdout",
     "output_type": "stream",
     "text": [
      "Current working directory: /home/dschnoell/sources/sim2\n"
     ]
    }
   ],
   "source": [
    "if not('init' in globals()):\n",
    "    import os\n",
    "    os.chdir('../..')\n",
    "\n",
    "    print(\"Current working directory: {0}\".format(os.getcwd()))\n",
    "\n",
    "    import torch \n",
    "    import torch.nn as nn\n",
    "\n",
    "    from tests.utils import *\n",
    "\n",
    "    import model.layer\n",
    "    import model.quantizer\n",
    "\n",
    "    init = 0\n"
   ]
  },
  {
   "cell_type": "code",
   "execution_count": 5,
   "metadata": {},
   "outputs": [],
   "source": [
    "shape = (1,30,1,1)\n",
    "\n",
    "add = model.layer.AddQAT(size=shape,out_quant_bits=8,out_quant_channel_wise=True,)\n",
    "\n",
    "a_quant = model.quantizer.LinQuantExpScale(8,shape,1)\n",
    "b_quant = model.quantizer.LinQuantExpScale(8,shape,1)\n"
   ]
  },
  {
   "cell_type": "code",
   "execution_count": 70,
   "metadata": {},
   "outputs": [
    {
     "name": "stdout",
     "output_type": "stream",
     "text": [
      "diff of indata a diff: 0.0627450942993164, mean: 0.03137027099728584\n",
      "tensor([0.0627, 0.0627, 0.0627, 0.0627, 0.0627, 0.0627, 0.0627, 0.0627, 0.0627,\n",
      "        0.0627, 0.0627, 0.0627, 0.0627, 0.0627, 0.0627, 0.0627, 0.0627, 0.0627,\n",
      "        0.0627, 0.0627, 0.0627, 0.0627, 0.0627, 0.0627, 0.0627, 0.0627, 0.0627,\n",
      "        0.0627, 0.0627, 0.0627])\n",
      "diff of indata b diff: 0.06274503469467163, mean: 0.03136405721306801\n",
      "tensor([0.0627, 0.0627, 0.0627, 0.0627, 0.0627, 0.0627, 0.0627, 0.0627, 0.0627,\n",
      "        0.0627, 0.0627, 0.0627, 0.0627, 0.0627, 0.0627, 0.0627, 0.0627, 0.0627,\n",
      "        0.0627, 0.0627, 0.0627, 0.0627, 0.0627, 0.0627, 0.0627, 0.0627, 0.0627,\n",
      "        0.0627, 0.0627, 0.0627])\n",
      "diff of indata a diff: 0.0627450942993164, mean: 0.03137027099728584\n",
      "Hello from high pres\n",
      "diff in train to float diff: 0.25085973739624023, mean: 0.12548013031482697\n",
      "diff in train to quant diff: 0.12549066543579102, mean: 0.06274580210447311\n",
      "tensor([0.1255, 0.1255, 0.1255, 0.1255, 0.1255, 0.1255, 0.1255, 0.1255, 0.1255,\n",
      "        0.1255, 0.1255, 0.1255, 0.1255, 0.1255, 0.1255, 0.1255, 0.1255, 0.1255,\n",
      "        0.1255, 0.1255, 0.1255, 0.1255, 0.1255, 0.1255, 0.1255, 0.1255, 0.1255,\n",
      "        0.1255, 0.1255, 0.1255])\n",
      "torch.Size([1, 30, 1, 1])\n",
      "diff of a diff: 0.0, mean: 0.0\n",
      "diff train eval diff: 0.0, mean: 0.0\n",
      "tensor([0.1255, 0.1255, 0.1255, 0.1255, 0.1255, 0.1255, 0.1255, 0.1255, 0.1255,\n",
      "        0.1255, 0.1255, 0.1255, 0.1255, 0.1255, 0.1255, 0.1255, 0.1255, 0.1255,\n",
      "        0.1255, 0.1255, 0.1255, 0.1255, 0.1255, 0.1255, 0.1255, 0.1255, 0.1255,\n",
      "        0.1255, 0.1255, 0.1255])\n",
      "torch.Size([1, 30, 1, 1])\n",
      "tensor([1., 1., 1., 1., 1., 1., 1., 1., 1., 1., 1., 1., 1., 1., 1., 1., 1., 1.,\n",
      "        1., 1., 1., 1., 1., 1., 1., 1., 1., 1., 1., 1.])\n",
      "tensor([1., 1., 1., 1., 1., 1., 1., 1., 1., 1., 1., 1., 1., 1., 1., 1., 1., 1.,\n",
      "        1., 1., 1., 1., 1., 1., 1., 1., 1., 1., 1., 1.])\n"
     ]
    }
   ],
   "source": [
    "size=(100,shape[1],20,30)\n",
    "\n",
    "a = torch.randn(size)\n",
    "b = torch.randn(size)\n",
    "\n",
    "a_quant.train()\n",
    "b_quant.train()\n",
    "add.train()\n",
    "\n",
    "aq = (a_quant(a.clone()),a_quant.delta_out.log2())\n",
    "bq = (b_quant(b.clone()),b_quant.delta_out.log2())\n",
    "\n",
    "pr(\"diff of indata a\",a,aq[0]) \n",
    "print(aq[1].exp2().view(-1))\n",
    "pr(\"diff of indata b\",b,bq[0])\n",
    "print(bq[1].exp2().view(-1))\n",
    "\n",
    "pr(\"diff of indata a\",a,aq[0].div((aq[1]).exp2()).floor().mul((aq[1]).exp2())) \n",
    "\n",
    "\n",
    "c = add(aq,bq)\n",
    "# print(c)\n",
    "\n",
    "pr(\"diff in train to float\",c[0],a+b)\n",
    "pr(\"diff in train to quant\",c[0],aq[0]+bq[0])\n",
    "print(c[1].exp2().view(-1))\n",
    "print(c[1].shape)\n",
    "\n",
    "\n",
    "a_quant.eval()\n",
    "b_quant.eval()\n",
    "add.eval()\n",
    "\n",
    "aq2 = (a_quant(a.clone()),a_quant.delta_out.log2())\n",
    "bq2 = (b_quant(b.clone()),b_quant.delta_out.log2())\n",
    "\n",
    "\n",
    "pr(\"diff of a\",aq[0]/(aq2[1].exp2()),aq2[0])\n",
    "\n",
    "# print(aq[0]/)\n",
    "\n",
    "c2 = add(aq2,bq2)\n",
    "\n",
    "pr(\"diff train eval\",c[0]/(c2[1].exp2()),c2[0])\n",
    "# print(c[0]/(c2[1].exp2())-c2[0])\n",
    "print(c2[1].exp2().view(-1))\n",
    "print(c2[1].shape)\n",
    "print(add.a_shift.view(-1))\n",
    "print(add.b_shift.view(-1))\n"
   ]
  },
  {
   "cell_type": "code",
   "execution_count": null,
   "metadata": {},
   "outputs": [],
   "source": []
  }
 ],
 "metadata": {
  "kernelspec": {
   "display_name": "Python 3.10.4 ('env': venv)",
   "language": "python",
   "name": "python3"
  },
  "language_info": {
   "codemirror_mode": {
    "name": "ipython",
    "version": 3
   },
   "file_extension": ".py",
   "mimetype": "text/x-python",
   "name": "python",
   "nbconvert_exporter": "python",
   "pygments_lexer": "ipython3",
   "version": "3.10.4"
  },
  "orig_nbformat": 4,
  "vscode": {
   "interpreter": {
    "hash": "955578640e724fe920f15040bbcdce362a752e3d5f5637717e32392deb41b389"
   }
  }
 },
 "nbformat": 4,
 "nbformat_minor": 2
}
