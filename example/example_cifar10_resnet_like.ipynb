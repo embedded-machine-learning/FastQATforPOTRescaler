{
 "cells": [
  {
   "cell_type": "code",
   "execution_count": 1,
   "metadata": {},
   "outputs": [],
   "source": [
    "import torch.optim as optim\n",
    "import torchvision.transforms as transforms\n",
    "import torchvision\n",
    "import torch.nn.functional as F\n",
    "import torch.nn as nn\n",
    "import torch\n",
    "import os\n",
    "import sys\n",
    "sys.path.append('/'+'/'.join(os.getcwd().split('/')[:-1])+'/')\n",
    "\n",
    "from model.wrapped import FlattenM, MaxPool2d, Dropout, AdaptiveAvgPool2d\n",
    "from model.blocks import ConvBnA, LinBnA, BasicBlock\n",
    "from model.activations import ReLU, PACT\n",
    "from model.Conversion import Start, Stop\n",
    "from tqdm import tqdm\n",
    "from model.QuantizationMethods.MinMSE import MinMSE_convolution_weight_quantization, MinMSE_linear_weight_quantization\n",
    "from model.Quantizer import LinQuantExpScale\n",
    "from model.sequential import Sequential\n",
    "from model.linear import Linear\n",
    "\n",
    "\n",
    "path = 'cifa10_resnet'\n",
    "\n",
    "\n",
    "if not os.path.exists('./runs'):\n",
    "    os.mkdir('./runs')\n",
    "if not os.path.exists(f'./runs/{path}'):\n",
    "    os.mkdir(f'./runs/{path}')"
   ]
  },
  {
   "cell_type": "code",
   "execution_count": 2,
   "metadata": {},
   "outputs": [],
   "source": [
    "batch_size = 80\n",
    "epochs = 50"
   ]
  },
  {
   "cell_type": "code",
   "execution_count": 3,
   "metadata": {},
   "outputs": [
    {
     "name": "stdout",
     "output_type": "stream",
     "text": [
      "Files already downloaded and verified\n",
      "Files already downloaded and verified\n"
     ]
    }
   ],
   "source": [
    "transform_train = transforms.Compose([\n",
    "    transforms.RandomHorizontalFlip(),\n",
    "    transforms.ToTensor(),\n",
    "    transforms.Normalize((0.5, 0.5, 0.5), (.3, .3, .3))])\n",
    "transform_test = transforms.Compose(\n",
    "    [transforms.ToTensor(),\n",
    "     transforms.Normalize((0.5, 0.5, 0.5), (.3, .3, .3))])\n",
    "\n",
    "trainset = torchvision.datasets.CIFAR10(root='./data', train=True,\n",
    "                                        download=True, transform=transform_train)\n",
    "trainloader = torch.utils.data.DataLoader(trainset, batch_size=batch_size,\n",
    "                                          shuffle=True)\n",
    "\n",
    "testset = torchvision.datasets.CIFAR10(root='./data', train=False,\n",
    "                                       download=True, transform=transform_test)\n",
    "testloader = torch.utils.data.DataLoader(testset, batch_size=batch_size,\n",
    "                                         shuffle=False)\n",
    "\n",
    "classes = ('plane', 'car', 'bird', 'cat',\n",
    "           'deer', 'dog', 'frog', 'horse', 'ship', 'truck')"
   ]
  },
  {
   "cell_type": "code",
   "execution_count": 4,
   "metadata": {},
   "outputs": [],
   "source": [
    "weight_quant = MinMSE_convolution_weight_quantization\n",
    "\n",
    "class Net(nn.Module):\n",
    "    def __init__(self):\n",
    "        super().__init__()\n",
    "        self.start = Start(bits=8,size=(1,3,1,1),mode=\"auto\",auto_runs=2)\n",
    "        self.stop = Stop(size=(1,10))\n",
    "        \n",
    "        self.seq = Sequential(\n",
    "            ConvBnA(  3, 128,3,1,1,activation=PACT,weight_quant=weight_quant),\n",
    "            BasicBlock(128,128,1),\n",
    "            Dropout(0.1),\n",
    "            \n",
    "            BasicBlock(128,256,2),\n",
    "            Dropout(0.1),\n",
    "\n",
    "            BasicBlock(256,512,2),\n",
    "            Dropout(0.1),\n",
    "\n",
    "            AdaptiveAvgPool2d((1,1)),\n",
    "            FlattenM(1),\n",
    "            LinBnA(512,10,weight_quant=MinMSE_linear_weight_quantization,weight_quant_channel_wise=True,activation=LinQuantExpScale,affine=False),\n",
    "        )\n",
    "\n",
    "    def forward(self, x):\n",
    "        x = self.start(x)\n",
    "        x = self.seq(x)\n",
    "        x = self.stop(x)\n",
    "        return x"
   ]
  },
  {
   "cell_type": "code",
   "execution_count": 5,
   "metadata": {},
   "outputs": [],
   "source": [
    "def eval(net, pr=True):\n",
    "    global testloader,device\n",
    "    global best\n",
    "    correct = 0\n",
    "    total = 0\n",
    "    # since we're not training, we don't need to calculate the gradients for our outputs\n",
    "    net.eval()\n",
    "    with torch.no_grad():\n",
    "        for data in testloader:\n",
    "            images, labels = data\n",
    "            images = images.to(device,non_blocking=True)\n",
    "            labels = labels.to(device,non_blocking=True)\n",
    "            # calculate outputs by running images through the network\n",
    "            outputs = net(images)\n",
    "            # loss = criterion(outputs, target)\n",
    "\n",
    "            # the class with the highest energy is what we choose as prediction\n",
    "            _, predicted = torch.max(outputs.data, 1)\n",
    "            total += labels.size(0)\n",
    "            correct += (predicted == labels).sum().item()\n",
    "    net.train()\n",
    "    if pr:\n",
    "        print(f'Accuracy of the network on the 10000 test images: {100 * correct / total:4.1f} %')\n",
    "    if best < 100 * correct / total:\n",
    "        best = 100 * correct / total\n",
    "\n",
    "    return 100 * correct / total, best\n"
   ]
  },
  {
   "cell_type": "code",
   "execution_count": 6,
   "metadata": {},
   "outputs": [],
   "source": [
    "net = Net()\n",
    "device = torch.device('cuda' if torch.cuda.is_available() else 'cpu')\n",
    "net = net.to(device)\n",
    "\n",
    "\n",
    "criterion = nn.CrossEntropyLoss(label_smoothing=0.1)\n",
    "optimizer = optim.SGD(net.parameters(), lr=0.01, momentum=0.9,weight_decay=5e-4)\n",
    "sched= optim.lr_scheduler.CosineAnnealingLR(optimizer,epochs,1e-5,verbose=False)\n",
    "\n",
    "best = 0"
   ]
  },
  {
   "cell_type": "code",
   "execution_count": 7,
   "metadata": {},
   "outputs": [
    {
     "name": "stderr",
     "output_type": "stream",
     "text": [
      "100%|██████████| 625/625 [00:56<00:00, 11.16it/s, loss=1.63, acc=0.501]\n"
     ]
    },
    {
     "name": "stdout",
     "output_type": "stream",
     "text": [
      "reduce autorun by 1: 1 min/max -1.6666666269302368 / 1.6666666269302368\n",
      "[  1,   625] loss: 130.448,Train Acc: 40.1, Test Acc:60.6%, Best test Acc:60.6%\n"
     ]
    },
    {
     "name": "stderr",
     "output_type": "stream",
     "text": [
      "100%|██████████| 625/625 [00:53<00:00, 11.65it/s, loss=1.4, acc=0.632] \n"
     ]
    },
    {
     "name": "stdout",
     "output_type": "stream",
     "text": [
      "reduce autorun by 1: 0 min/max -1.6666666269302368 / 1.6666666269302368\n",
      "[  2,   625] loss: 112.004,Train Acc: 50.6, Test Acc:60.5%, Best test Acc:60.6%\n"
     ]
    },
    {
     "name": "stderr",
     "output_type": "stream",
     "text": [
      "100%|██████████| 625/625 [00:51<00:00, 12.06it/s, loss=1.3, acc=0.69]  \n"
     ]
    },
    {
     "name": "stdout",
     "output_type": "stream",
     "text": [
      "[  3,   625] loss: 103.899,Train Acc: 55.2, Test Acc:68.8%, Best test Acc:68.8%\n"
     ]
    },
    {
     "name": "stderr",
     "output_type": "stream",
     "text": [
      "100%|██████████| 625/625 [00:50<00:00, 12.38it/s, loss=1.23, acc=0.729]\n"
     ]
    },
    {
     "name": "stdout",
     "output_type": "stream",
     "text": [
      "[  4,   625] loss: 98.273,Train Acc: 58.3, Test Acc:72.9%, Best test Acc:72.9%\n"
     ]
    },
    {
     "name": "stderr",
     "output_type": "stream",
     "text": [
      "100%|██████████| 625/625 [00:50<00:00, 12.42it/s, loss=1.18, acc=0.758]\n"
     ]
    },
    {
     "name": "stdout",
     "output_type": "stream",
     "text": [
      "[  5,   625] loss: 94.082,Train Acc: 60.7, Test Acc:73.0%, Best test Acc:73.0%\n"
     ]
    },
    {
     "name": "stderr",
     "output_type": "stream",
     "text": [
      "100%|██████████| 625/625 [00:51<00:00, 12.07it/s, loss=1.13, acc=0.784]\n"
     ]
    },
    {
     "name": "stdout",
     "output_type": "stream",
     "text": [
      "[  6,   625] loss: 90.515,Train Acc: 62.7, Test Acc:77.0%, Best test Acc:77.0%\n"
     ]
    },
    {
     "name": "stderr",
     "output_type": "stream",
     "text": [
      "100%|██████████| 625/625 [00:51<00:00, 12.22it/s, loss=1.09, acc=0.806]\n"
     ]
    },
    {
     "name": "stdout",
     "output_type": "stream",
     "text": [
      "[  7,   625] loss: 87.364,Train Acc: 64.5, Test Acc:79.4%, Best test Acc:79.4%\n"
     ]
    },
    {
     "name": "stderr",
     "output_type": "stream",
     "text": [
      "100%|██████████| 625/625 [00:50<00:00, 12.33it/s, loss=1.07, acc=0.819]\n"
     ]
    },
    {
     "name": "stdout",
     "output_type": "stream",
     "text": [
      "[  8,   625] loss: 85.297,Train Acc: 65.5, Test Acc:79.4%, Best test Acc:79.4%\n"
     ]
    },
    {
     "name": "stderr",
     "output_type": "stream",
     "text": [
      "100%|██████████| 625/625 [00:45<00:00, 13.63it/s, loss=1.04, acc=0.836]\n"
     ]
    },
    {
     "name": "stdout",
     "output_type": "stream",
     "text": [
      "[  9,   625] loss: 83.014,Train Acc: 66.9, Test Acc:78.4%, Best test Acc:79.4%\n"
     ]
    },
    {
     "name": "stderr",
     "output_type": "stream",
     "text": [
      "100%|██████████| 625/625 [00:45<00:00, 13.71it/s, loss=1.01, acc=0.849]\n"
     ]
    },
    {
     "name": "stdout",
     "output_type": "stream",
     "text": [
      "[ 10,   625] loss: 81.104,Train Acc: 67.9, Test Acc:77.5%, Best test Acc:79.4%\n"
     ]
    },
    {
     "name": "stderr",
     "output_type": "stream",
     "text": [
      "100%|██████████| 625/625 [00:45<00:00, 13.72it/s, loss=0.993, acc=0.86] \n"
     ]
    },
    {
     "name": "stdout",
     "output_type": "stream",
     "text": [
      "[ 11,   625] loss: 79.438,Train Acc: 68.8, Test Acc:83.1%, Best test Acc:83.1%\n"
     ]
    },
    {
     "name": "stderr",
     "output_type": "stream",
     "text": [
      "100%|██████████| 625/625 [00:45<00:00, 13.71it/s, loss=0.974, acc=0.868]\n"
     ]
    },
    {
     "name": "stdout",
     "output_type": "stream",
     "text": [
      "[ 12,   625] loss: 77.897,Train Acc: 69.5, Test Acc:82.9%, Best test Acc:83.1%\n"
     ]
    },
    {
     "name": "stderr",
     "output_type": "stream",
     "text": [
      "100%|██████████| 625/625 [00:46<00:00, 13.58it/s, loss=0.956, acc=0.88] \n"
     ]
    },
    {
     "name": "stdout",
     "output_type": "stream",
     "text": [
      "[ 13,   625] loss: 76.446,Train Acc: 70.4, Test Acc:83.5%, Best test Acc:83.5%\n"
     ]
    },
    {
     "name": "stderr",
     "output_type": "stream",
     "text": [
      "100%|██████████| 625/625 [00:47<00:00, 13.11it/s, loss=0.941, acc=0.888]\n"
     ]
    },
    {
     "name": "stdout",
     "output_type": "stream",
     "text": [
      "[ 14,   625] loss: 75.285,Train Acc: 71.0, Test Acc:84.5%, Best test Acc:84.5%\n"
     ]
    },
    {
     "name": "stderr",
     "output_type": "stream",
     "text": [
      "100%|██████████| 625/625 [00:48<00:00, 12.83it/s, loss=0.925, acc=0.896]\n"
     ]
    },
    {
     "name": "stdout",
     "output_type": "stream",
     "text": [
      "[ 15,   625] loss: 73.987,Train Acc: 71.7, Test Acc:82.6%, Best test Acc:84.5%\n"
     ]
    },
    {
     "name": "stderr",
     "output_type": "stream",
     "text": [
      "100%|██████████| 625/625 [00:53<00:00, 11.58it/s, loss=0.909, acc=0.904]\n"
     ]
    },
    {
     "name": "stdout",
     "output_type": "stream",
     "text": [
      "[ 16,   625] loss: 72.742,Train Acc: 72.4, Test Acc:83.2%, Best test Acc:84.5%\n"
     ]
    },
    {
     "name": "stderr",
     "output_type": "stream",
     "text": [
      "100%|██████████| 625/625 [00:54<00:00, 11.52it/s, loss=0.894, acc=0.912]\n"
     ]
    },
    {
     "name": "stdout",
     "output_type": "stream",
     "text": [
      "[ 17,   625] loss: 71.501,Train Acc: 73.0, Test Acc:84.9%, Best test Acc:84.9%\n"
     ]
    },
    {
     "name": "stderr",
     "output_type": "stream",
     "text": [
      "100%|██████████| 625/625 [00:53<00:00, 11.75it/s, loss=0.88, acc=0.919] \n"
     ]
    },
    {
     "name": "stdout",
     "output_type": "stream",
     "text": [
      "[ 18,   625] loss: 70.361,Train Acc: 73.5, Test Acc:86.3%, Best test Acc:86.3%\n"
     ]
    },
    {
     "name": "stderr",
     "output_type": "stream",
     "text": [
      "100%|██████████| 625/625 [00:54<00:00, 11.54it/s, loss=0.868, acc=0.927]\n"
     ]
    },
    {
     "name": "stdout",
     "output_type": "stream",
     "text": [
      "[ 19,   625] loss: 69.410,Train Acc: 74.2, Test Acc:85.3%, Best test Acc:86.3%\n"
     ]
    },
    {
     "name": "stderr",
     "output_type": "stream",
     "text": [
      "100%|██████████| 625/625 [00:51<00:00, 12.07it/s, loss=0.855, acc=0.934]\n"
     ]
    },
    {
     "name": "stdout",
     "output_type": "stream",
     "text": [
      "[ 20,   625] loss: 68.409,Train Acc: 74.7, Test Acc:86.1%, Best test Acc:86.3%\n"
     ]
    },
    {
     "name": "stderr",
     "output_type": "stream",
     "text": [
      "100%|██████████| 625/625 [00:53<00:00, 11.76it/s, loss=0.844, acc=0.939]\n"
     ]
    },
    {
     "name": "stdout",
     "output_type": "stream",
     "text": [
      "[ 21,   625] loss: 67.507,Train Acc: 75.1, Test Acc:87.1%, Best test Acc:87.1%\n"
     ]
    },
    {
     "name": "stderr",
     "output_type": "stream",
     "text": [
      "100%|██████████| 625/625 [00:54<00:00, 11.49it/s, loss=0.83, acc=0.946] \n"
     ]
    },
    {
     "name": "stdout",
     "output_type": "stream",
     "text": [
      "[ 22,   625] loss: 66.361,Train Acc: 75.7, Test Acc:86.1%, Best test Acc:87.1%\n"
     ]
    },
    {
     "name": "stderr",
     "output_type": "stream",
     "text": [
      "100%|██████████| 625/625 [00:45<00:00, 13.73it/s, loss=0.818, acc=0.953]\n"
     ]
    },
    {
     "name": "stdout",
     "output_type": "stream",
     "text": [
      "[ 23,   625] loss: 65.447,Train Acc: 76.2, Test Acc:85.6%, Best test Acc:87.1%\n"
     ]
    },
    {
     "name": "stderr",
     "output_type": "stream",
     "text": [
      "100%|██████████| 625/625 [00:45<00:00, 13.73it/s, loss=0.809, acc=0.956]\n"
     ]
    },
    {
     "name": "stdout",
     "output_type": "stream",
     "text": [
      "[ 24,   625] loss: 64.758,Train Acc: 76.5, Test Acc:86.9%, Best test Acc:87.1%\n"
     ]
    },
    {
     "name": "stderr",
     "output_type": "stream",
     "text": [
      "100%|██████████| 625/625 [00:45<00:00, 13.75it/s, loss=0.796, acc=0.961]\n"
     ]
    },
    {
     "name": "stdout",
     "output_type": "stream",
     "text": [
      "[ 25,   625] loss: 63.714,Train Acc: 76.9, Test Acc:87.6%, Best test Acc:87.6%\n"
     ]
    },
    {
     "name": "stderr",
     "output_type": "stream",
     "text": [
      "100%|██████████| 625/625 [00:45<00:00, 13.71it/s, loss=0.787, acc=0.967]\n"
     ]
    },
    {
     "name": "stdout",
     "output_type": "stream",
     "text": [
      "[ 26,   625] loss: 62.974,Train Acc: 77.3, Test Acc:88.2%, Best test Acc:88.2%\n"
     ]
    },
    {
     "name": "stderr",
     "output_type": "stream",
     "text": [
      "100%|██████████| 625/625 [00:45<00:00, 13.75it/s, loss=0.779, acc=0.971]\n"
     ]
    },
    {
     "name": "stdout",
     "output_type": "stream",
     "text": [
      "[ 27,   625] loss: 62.329,Train Acc: 77.7, Test Acc:88.2%, Best test Acc:88.2%\n"
     ]
    },
    {
     "name": "stderr",
     "output_type": "stream",
     "text": [
      "100%|██████████| 625/625 [00:45<00:00, 13.73it/s, loss=0.769, acc=0.974]\n"
     ]
    },
    {
     "name": "stdout",
     "output_type": "stream",
     "text": [
      "[ 28,   625] loss: 61.482,Train Acc: 77.9, Test Acc:88.3%, Best test Acc:88.3%\n"
     ]
    },
    {
     "name": "stderr",
     "output_type": "stream",
     "text": [
      "100%|██████████| 625/625 [00:45<00:00, 13.74it/s, loss=0.759, acc=0.979]\n"
     ]
    },
    {
     "name": "stdout",
     "output_type": "stream",
     "text": [
      "[ 29,   625] loss: 60.758,Train Acc: 78.3, Test Acc:88.4%, Best test Acc:88.4%\n"
     ]
    },
    {
     "name": "stderr",
     "output_type": "stream",
     "text": [
      "100%|██████████| 625/625 [00:45<00:00, 13.77it/s, loss=0.75, acc=0.982] \n"
     ]
    },
    {
     "name": "stdout",
     "output_type": "stream",
     "text": [
      "[ 30,   625] loss: 60.023,Train Acc: 78.5, Test Acc:87.8%, Best test Acc:88.4%\n"
     ]
    },
    {
     "name": "stderr",
     "output_type": "stream",
     "text": [
      "100%|██████████| 625/625 [00:45<00:00, 13.75it/s, loss=0.745, acc=0.984]\n"
     ]
    },
    {
     "name": "stdout",
     "output_type": "stream",
     "text": [
      "[ 31,   625] loss: 59.622,Train Acc: 78.7, Test Acc:88.3%, Best test Acc:88.4%\n"
     ]
    },
    {
     "name": "stderr",
     "output_type": "stream",
     "text": [
      "100%|██████████| 625/625 [00:45<00:00, 13.72it/s, loss=0.736, acc=0.987]\n"
     ]
    },
    {
     "name": "stdout",
     "output_type": "stream",
     "text": [
      "[ 32,   625] loss: 58.904,Train Acc: 79.0, Test Acc:88.4%, Best test Acc:88.4%\n"
     ]
    },
    {
     "name": "stderr",
     "output_type": "stream",
     "text": [
      "100%|██████████| 625/625 [00:45<00:00, 13.74it/s, loss=0.731, acc=0.988]\n"
     ]
    },
    {
     "name": "stdout",
     "output_type": "stream",
     "text": [
      "[ 33,   625] loss: 58.464,Train Acc: 79.1, Test Acc:88.2%, Best test Acc:88.4%\n"
     ]
    },
    {
     "name": "stderr",
     "output_type": "stream",
     "text": [
      "100%|██████████| 625/625 [00:45<00:00, 13.73it/s, loss=0.725, acc=0.991]\n"
     ]
    },
    {
     "name": "stdout",
     "output_type": "stream",
     "text": [
      "[ 34,   625] loss: 57.960,Train Acc: 79.3, Test Acc:89.0%, Best test Acc:89.0%\n"
     ]
    },
    {
     "name": "stderr",
     "output_type": "stream",
     "text": [
      "100%|██████████| 625/625 [00:45<00:00, 13.75it/s, loss=0.72, acc=0.991] \n"
     ]
    },
    {
     "name": "stdout",
     "output_type": "stream",
     "text": [
      "[ 35,   625] loss: 57.628,Train Acc: 79.3, Test Acc:89.3%, Best test Acc:89.3%\n"
     ]
    },
    {
     "name": "stderr",
     "output_type": "stream",
     "text": [
      "100%|██████████| 625/625 [00:45<00:00, 13.74it/s, loss=0.714, acc=0.994]\n"
     ]
    },
    {
     "name": "stdout",
     "output_type": "stream",
     "text": [
      "[ 36,   625] loss: 57.119,Train Acc: 79.5, Test Acc:89.4%, Best test Acc:89.4%\n"
     ]
    },
    {
     "name": "stderr",
     "output_type": "stream",
     "text": [
      "100%|██████████| 625/625 [00:45<00:00, 13.77it/s, loss=0.708, acc=0.994]\n"
     ]
    },
    {
     "name": "stdout",
     "output_type": "stream",
     "text": [
      "[ 37,   625] loss: 56.677,Train Acc: 79.6, Test Acc:89.9%, Best test Acc:89.9%\n"
     ]
    },
    {
     "name": "stderr",
     "output_type": "stream",
     "text": [
      "100%|██████████| 625/625 [00:45<00:00, 13.69it/s, loss=0.708, acc=0.995]\n"
     ]
    },
    {
     "name": "stdout",
     "output_type": "stream",
     "text": [
      "[ 38,   625] loss: 56.633,Train Acc: 79.6, Test Acc:89.6%, Best test Acc:89.9%\n"
     ]
    },
    {
     "name": "stderr",
     "output_type": "stream",
     "text": [
      "100%|██████████| 625/625 [00:45<00:00, 13.75it/s, loss=0.703, acc=0.996]\n"
     ]
    },
    {
     "name": "stdout",
     "output_type": "stream",
     "text": [
      "[ 39,   625] loss: 56.206,Train Acc: 79.6, Test Acc:89.8%, Best test Acc:89.9%\n"
     ]
    },
    {
     "name": "stderr",
     "output_type": "stream",
     "text": [
      "100%|██████████| 625/625 [00:45<00:00, 13.76it/s, loss=0.701, acc=0.996]\n"
     ]
    },
    {
     "name": "stdout",
     "output_type": "stream",
     "text": [
      "[ 40,   625] loss: 56.116,Train Acc: 79.7, Test Acc:89.9%, Best test Acc:89.9%\n"
     ]
    },
    {
     "name": "stderr",
     "output_type": "stream",
     "text": [
      "100%|██████████| 625/625 [00:45<00:00, 13.75it/s, loss=0.697, acc=0.996]\n"
     ]
    },
    {
     "name": "stdout",
     "output_type": "stream",
     "text": [
      "[ 41,   625] loss: 55.748,Train Acc: 79.7, Test Acc:89.9%, Best test Acc:89.9%\n"
     ]
    },
    {
     "name": "stderr",
     "output_type": "stream",
     "text": [
      "100%|██████████| 625/625 [00:45<00:00, 13.76it/s, loss=0.694, acc=0.997]\n"
     ]
    },
    {
     "name": "stdout",
     "output_type": "stream",
     "text": [
      "[ 42,   625] loss: 55.556,Train Acc: 79.8, Test Acc:90.2%, Best test Acc:90.2%\n"
     ]
    },
    {
     "name": "stderr",
     "output_type": "stream",
     "text": [
      "100%|██████████| 625/625 [00:52<00:00, 11.87it/s, loss=0.694, acc=0.997]\n"
     ]
    },
    {
     "name": "stdout",
     "output_type": "stream",
     "text": [
      "[ 43,   625] loss: 55.535,Train Acc: 79.8, Test Acc:90.2%, Best test Acc:90.2%\n"
     ]
    },
    {
     "name": "stderr",
     "output_type": "stream",
     "text": [
      "100%|██████████| 625/625 [00:52<00:00, 12.01it/s, loss=0.692, acc=0.997]\n"
     ]
    },
    {
     "name": "stdout",
     "output_type": "stream",
     "text": [
      "[ 44,   625] loss: 55.395,Train Acc: 79.8, Test Acc:90.2%, Best test Acc:90.2%\n"
     ]
    },
    {
     "name": "stderr",
     "output_type": "stream",
     "text": [
      "100%|██████████| 625/625 [00:53<00:00, 11.58it/s, loss=0.69, acc=0.998] \n"
     ]
    },
    {
     "name": "stdout",
     "output_type": "stream",
     "text": [
      "[ 45,   625] loss: 55.209,Train Acc: 79.8, Test Acc:90.4%, Best test Acc:90.4%\n"
     ]
    },
    {
     "name": "stderr",
     "output_type": "stream",
     "text": [
      "100%|██████████| 625/625 [00:52<00:00, 11.83it/s, loss=0.689, acc=0.998]\n"
     ]
    },
    {
     "name": "stdout",
     "output_type": "stream",
     "text": [
      "[ 46,   625] loss: 55.159,Train Acc: 79.8, Test Acc:90.1%, Best test Acc:90.4%\n"
     ]
    },
    {
     "name": "stderr",
     "output_type": "stream",
     "text": [
      "100%|██████████| 625/625 [00:51<00:00, 12.20it/s, loss=0.688, acc=0.998]\n"
     ]
    },
    {
     "name": "stdout",
     "output_type": "stream",
     "text": [
      "[ 47,   625] loss: 55.056,Train Acc: 79.8, Test Acc:90.0%, Best test Acc:90.4%\n"
     ]
    },
    {
     "name": "stderr",
     "output_type": "stream",
     "text": [
      "100%|██████████| 625/625 [00:54<00:00, 11.54it/s, loss=0.689, acc=0.998]\n"
     ]
    },
    {
     "name": "stdout",
     "output_type": "stream",
     "text": [
      "[ 48,   625] loss: 55.117,Train Acc: 79.8, Test Acc:90.1%, Best test Acc:90.4%\n"
     ]
    },
    {
     "name": "stderr",
     "output_type": "stream",
     "text": [
      "100%|██████████| 625/625 [00:52<00:00, 11.91it/s, loss=0.689, acc=0.998]\n"
     ]
    },
    {
     "name": "stdout",
     "output_type": "stream",
     "text": [
      "[ 49,   625] loss: 55.103,Train Acc: 79.8, Test Acc:90.2%, Best test Acc:90.4%\n"
     ]
    },
    {
     "name": "stderr",
     "output_type": "stream",
     "text": [
      "100%|██████████| 625/625 [00:53<00:00, 11.74it/s, loss=0.688, acc=0.997]\n"
     ]
    },
    {
     "name": "stdout",
     "output_type": "stream",
     "text": [
      "[ 50,   625] loss: 55.066,Train Acc: 79.8, Test Acc:90.1%, Best test Acc:90.4%\n",
      "Finished Training\n"
     ]
    }
   ],
   "source": [
    "for epoch in range(epochs):  # loop over the dataset multiple times\n",
    "\n",
    "    running_loss = 0.0\n",
    "    training_running_correct = 0\n",
    "    with tqdm(enumerate(trainloader, 0),total=len(trainloader),disable=False) as t:\n",
    "        for i, (data,target) in t:\n",
    "            # get the inputs; data is a list of [inputs, labels]\n",
    "            target = target.to(device,non_blocking=True)\n",
    "            data = data.to(device,non_blocking=True)\n",
    "\n",
    "            # zero the parameter gradients\n",
    "            optimizer.zero_grad(True)\n",
    "\n",
    "            # forward + backward + optimize\n",
    "            outputs = net(data)\n",
    "            loss = criterion(outputs, target)\n",
    "            loss.backward()\n",
    "            optimizer.step()\n",
    "\n",
    "\n",
    "            # print statistics\n",
    "            running_loss += loss.item()\n",
    "            # if i == 0:    # print every 2000 mini-batches\n",
    "            _, preds = torch.sort(outputs.data.clone().detach(), 1,descending=True)\n",
    "            training_running_correct += (preds[:,0].view(-1,1) == target.view(-1,1)).any(dim=1).sum().detach().item()\n",
    "            t.set_postfix({'loss': running_loss/(i+1),'acc':training_running_correct/((i+1)*batch_size)})\n",
    "    ev = eval(net,pr=False)\n",
    "    print(f'[{epoch + 1:3d}, {i + 1:5d}] loss: {running_loss*batch_size/len(trainloader):6.3f},Train Acc: {training_running_correct/len(trainloader):3.1f}, Test Acc:{ev[0]:3.1f}%, Best test Acc:{ev[1]:3.1f}%')\n",
    "    running_loss = 0.0\n",
    "    torch.save(net.state_dict(),f\"./runs/{path}/ckp.pt\")\n",
    "    sched.step()\n",
    "            \n",
    "print('Finished Training')\n"
   ]
  }
 ],
 "metadata": {
  "kernelspec": {
   "display_name": ".env",
   "language": "python",
   "name": "python3"
  },
  "language_info": {
   "codemirror_mode": {
    "name": "ipython",
    "version": 3
   },
   "file_extension": ".py",
   "mimetype": "text/x-python",
   "name": "python",
   "nbconvert_exporter": "python",
   "pygments_lexer": "ipython3",
   "version": "3.11.0rc2"
  },
  "orig_nbformat": 4
 },
 "nbformat": 4,
 "nbformat_minor": 2
}
